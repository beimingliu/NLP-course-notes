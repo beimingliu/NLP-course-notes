{
 "cells": [
  {
   "cell_type": "markdown",
   "metadata": {},
   "source": [
    "Exercises: Introduction to NLP in Python\n",
    "===\n",
    "\n",
    "![](http://static1.squarespace.com/static/538cea80e4b00f1fad490c1b/54668a77e4b00fb778d22a34/54668d8ae4b00fb778d2859c/1416007413413/NLTK.png)"
   ]
  },
  {
   "cell_type": "code",
   "execution_count": 1,
   "metadata": {},
   "outputs": [],
   "source": [
    "reset -fs"
   ]
  },
  {
   "cell_type": "code",
   "execution_count": 2,
   "metadata": {},
   "outputs": [],
   "source": [
    "import nltk"
   ]
  },
  {
   "cell_type": "code",
   "execution_count": 3,
   "metadata": {},
   "outputs": [],
   "source": [
    "nltk?"
   ]
  },
  {
   "cell_type": "markdown",
   "metadata": {},
   "source": [
    "---\n",
    "What is NLTK?\n",
    "---\n",
    "\n",
    "Natural Language Toolkit (nltk) is a Python package for NLP\n",
    "\n",
    "__Pros__:\n",
    "\n",
    "- Common\n",
    "- Functionality\n",
    "\n",
    "__Cons__:\n",
    "\n",
    "- Too academic\n",
    "- Too slow\n",
    "- Awkward API"
   ]
  },
  {
   "cell_type": "markdown",
   "metadata": {},
   "source": [
    "---\n",
    "What are Corpus / Corpora?\n",
    "---\n",
    "\n",
    "> a collection of written texts, especially the entire works of a particular author or a body of writing on a particular subject.\n",
    "\n",
    "The rest of the world call them \"documents\"."
   ]
  },
  {
   "cell_type": "markdown",
   "metadata": {},
   "source": [
    "---\n",
    "0) Download `nltk` corpora\n",
    "---\n",
    "\n",
    "![](images/download_all_the_corpora.png)"
   ]
  },
  {
   "cell_type": "code",
   "execution_count": 4,
   "metadata": {},
   "outputs": [
    {
     "name": "stdout",
     "output_type": "stream",
     "text": [
      "[nltk_data] Downloading package genesis to /Users/beiming/nltk_data...\n",
      "[nltk_data]   Package genesis is already up-to-date!\n"
     ]
    },
    {
     "data": {
      "text/plain": [
       "True"
      ]
     },
     "execution_count": 4,
     "metadata": {},
     "output_type": "execute_result"
    }
   ],
   "source": [
    "# Genesis is the first book in the Bible\n",
    "nltk.download('genesis')"
   ]
  },
  {
   "cell_type": "markdown",
   "metadata": {},
   "source": [
    "----"
   ]
  },
  {
   "cell_type": "code",
   "execution_count": 5,
   "metadata": {},
   "outputs": [],
   "source": [
    "# Double check that you have the corpora\n",
    "from nltk.corpus import genesis\n",
    "\n",
    "assert genesis.words()[:3] == ['In', 'the', 'beginning']"
   ]
  },
  {
   "cell_type": "markdown",
   "metadata": {},
   "source": [
    "---\n",
    "1) Zipf's Law:\n",
    "---\n",
    "\n",
    "Zipf's Law (not a real \"law\") is a NLP phenomena:\n",
    "\n",
    ">  the frequency of any word is inversely proportional to its rank in the frequency table. \n",
    "\n",
    "or in Plain English:\n",
    "\n",
    "> a rank r word occurs 1/r times as often as the most frequent word, so the rank 2 word occurs half as often as the rank 1 word, the rank 3 word one-third as often, the rank 4 word one-fourth as often,...\n",
    "\n",
    "> the most frequent word will occur about twice as often as the second most frequent word \n",
    "\n",
    "For example:\n",
    "\n",
    "|Word  |  Rank | Frequency |  Count |\n",
    "|:-------:|:------:| :---:| :---: |\n",
    "| “the”   | 1st | 1/10 | 10K |\n",
    "| \"of\" | 2nd | 1/20 |  5K |\n",
    "| \"and\" |  3rd | 1/30 | 3.3K | \n",
    " \n",
    "__Word by frequency count:__\n",
    "![](images/graph-zipf.png)"
   ]
  },
  {
   "cell_type": "markdown",
   "metadata": {},
   "source": [
    "------\n",
    "NLP (or Data Science) WorkFlow\n",
    "------\n",
    "\n",
    "1. Ask the right question\n",
    "2. Acquire the relevant data\n",
    "3. Process: clean and organize\n",
    "4. Model: Apply Statistics, Machine Learning, and Deep Learning\n",
    "5. Deliver: Add value, report, presentation, or code/API"
   ]
  },
  {
   "cell_type": "markdown",
   "metadata": {},
   "source": [
    "-------\n",
    "TODO: Take the words from \"Genesis\" and put the words counts into a dictionary\n",
    "\n",
    "<br>\n",
    "<details><summary>\n",
    "Click here for a hint…\n",
    "</summary>\n",
    "It is one line of code if you use an import from Python's Standard Library\n",
    "</details>"
   ]
  },
  {
   "cell_type": "code",
   "execution_count": 6,
   "metadata": {},
   "outputs": [
    {
     "name": "stdout",
     "output_type": "stream",
     "text": [
      "315268\n"
     ]
    }
   ],
   "source": [
    "print(len(genesis.words()))\n",
    "\n",
    "d = dict()\n",
    "for w in genesis.words():\n",
    "    if w not in d.keys():\n",
    "        d[w] = 1\n",
    "    else:\n",
    "        d[w] += 1\n",
    "\n",
    "word_counts_sorted_ = sorted(d.items(), key=lambda t: t[1], reverse=True)"
   ]
  },
  {
   "cell_type": "code",
   "execution_count": null,
   "metadata": {},
   "outputs": [],
   "source": [
    "# from package\n",
    "\n",
    "from collections import Counter\n",
    "d = Counter(genesis.words())"
   ]
  },
  {
   "cell_type": "markdown",
   "metadata": {},
   "source": [
    "TODO: Sort word counts from high to low.\n",
    "\n",
    "<br>\n",
    "<details><summary>\n",
    "Click here for a hint…\n",
    "</summary>\n",
    "Use the keyword arguments for `sorted`\n",
    "</details>"
   ]
  },
  {
   "cell_type": "code",
   "execution_count": 126,
   "metadata": {},
   "outputs": [
    {
     "data": {
      "text/plain": [
       "[(',', 22643), ('.', 11069), ('the', 4642), ('and', 4368), (':', 3636)]"
      ]
     },
     "execution_count": 126,
     "metadata": {},
     "output_type": "execute_result"
    }
   ],
   "source": [
    "word_counts_sorted = d.most_common()\n",
    "word_counts_sorted[:5]"
   ]
  },
  {
   "cell_type": "code",
   "execution_count": 19,
   "metadata": {},
   "outputs": [
    {
     "data": {
      "text/plain": [
       "True"
      ]
     },
     "execution_count": 19,
     "metadata": {},
     "output_type": "execute_result"
    }
   ],
   "source": [
    "word_counts_sorted_ == word_counts_sorted"
   ]
  },
  {
   "cell_type": "code",
   "execution_count": 9,
   "metadata": {},
   "outputs": [],
   "source": [
    "assert word_counts_sorted[0]  == (',', 22643)\n",
    "assert word_counts_sorted[1]  == ('.', 11069)\n",
    "assert word_counts_sorted[-1] == ('kista', 1)"
   ]
  },
  {
   "cell_type": "markdown",
   "metadata": {},
   "source": [
    "Take a small sample to visualize"
   ]
  },
  {
   "cell_type": "code",
   "execution_count": 10,
   "metadata": {},
   "outputs": [],
   "source": [
    "sample = word_counts_sorted[:15]"
   ]
  },
  {
   "cell_type": "code",
   "execution_count": 11,
   "metadata": {},
   "outputs": [],
   "source": [
    "import matplotlib.pyplot as plt\n",
    "import numpy as np\n",
    "\n",
    "%matplotlib inline"
   ]
  },
  {
   "cell_type": "markdown",
   "metadata": {
    "collapsed": true
   },
   "source": [
    "TODO: Plot the words by often they occur.\n",
    "\n",
    "You'll need to extract the data from data structure in an efficent way.\n",
    "\n",
    "<br>\n",
    "<details><summary>\n",
    "Click here for a big hint…\n",
    "</summary>\n",
    "labels, values = zip(*sample)\n",
    "</details>"
   ]
  },
  {
   "cell_type": "code",
   "execution_count": 89,
   "metadata": {},
   "outputs": [],
   "source": [
    "# Default image size\n",
    "import matplotlib.pylab as pylab\n",
    "pylab.rcParams['figure.figsize'] = 16, 9 "
   ]
  },
  {
   "cell_type": "code",
   "execution_count": 127,
   "metadata": {},
   "outputs": [
    {
     "data": {
      "image/png": "[encoded data removed]",
      "text/plain": [
       "<Figure size 1152x648 with 1 Axes>"
      ]
     },
     "metadata": {},
     "output_type": "display_data"
    }
   ],
   "source": [
    "x, y = zip(*sample)\n",
    "\n",
    "plt.plot(x, y);"
   ]
  },
  {
   "cell_type": "code",
   "execution_count": 94,
   "metadata": {},
   "outputs": [
    {
     "data": {
      "image/png": "[encoded data removed]",
      "text/plain": [
       "<Figure size 1152x648 with 1 Axes>"
      ]
     },
     "metadata": {},
     "output_type": "display_data"
    }
   ],
   "source": [
    "plt.bar(x, y);"
   ]
  },
  {
   "cell_type": "markdown",
   "metadata": {},
   "source": [
    "TODO: Does this data appear to support Zipf Law? Why or Why not?"
   ]
  },
  {
   "cell_type": "code",
   "execution_count": 16,
   "metadata": {},
   "outputs": [
    {
     "data": {
      "text/plain": [
       "'\\nmore or less support Zipf Law, some of the punctuation might affect a little bit\\n'"
      ]
     },
     "execution_count": 16,
     "metadata": {},
     "output_type": "execute_result"
    }
   ],
   "source": [
    "\"\"\"\n",
    "more or less support Zipf Law, some of the punctuation might affect a little bit\n",
    "\"\"\"\n"
   ]
  },
  {
   "cell_type": "markdown",
   "metadata": {},
   "source": [
    "TODO: Remove punctuation and plot the updated data\n",
    "<br>\n",
    "<br>\n",
    "<details><summary>\n",
    "Click here for a hint...\n",
    "</summary>\n",
    "Import all punctuation symbols from Python's Standard Library\n",
    "</details>"
   ]
  },
  {
   "cell_type": "code",
   "execution_count": 24,
   "metadata": {},
   "outputs": [
    {
     "data": {
      "text/plain": [
       "[('the', 4642),\n",
       " ('and', 4368),\n",
       " ('de', 3160),\n",
       " ('of', 2824),\n",
       " ('a', 2372),\n",
       " ('e', 2353),\n",
       " ('und', 2010),\n",
       " ('och', 1839),\n",
       " ('to', 1805),\n",
       " ('in', 1625)]"
      ]
     },
     "execution_count": 24,
     "metadata": {},
     "output_type": "execute_result"
    }
   ],
   "source": [
    "sample_ = [i for i in sample if i[0].isalpha()]\n",
    "sample_"
   ]
  },
  {
   "cell_type": "code",
   "execution_count": 27,
   "metadata": {},
   "outputs": [
    {
     "data": {
      "image/png": "[encoded data removed]",
      "text/plain": [
       "<Figure size 1152x648 with 1 Axes>"
      ]
     },
     "metadata": {},
     "output_type": "display_data"
    }
   ],
   "source": [
    "plt.figure(figsize=(16,9))\n",
    "x = [i[0] for i in sample_]\n",
    "y = [i[1] for i in sample_]\n",
    "\n",
    "plt.bar(x, y);"
   ]
  },
  {
   "cell_type": "code",
   "execution_count": 29,
   "metadata": {},
   "outputs": [
    {
     "data": {
      "text/plain": [
       "[('the', 4642), ('and', 4368), ('de', 3160), ('of', 2824), ('a', 2372)]"
      ]
     },
     "execution_count": 29,
     "metadata": {},
     "output_type": "execute_result"
    }
   ],
   "source": [
    "word_counts_sorted_ = [i for i in word_counts_sorted if i[0].isalpha()]\n",
    "word_counts_sorted_[:5]"
   ]
  },
  {
   "cell_type": "markdown",
   "metadata": {},
   "source": [
    "TODO: Create a new data structure that has word frequency by word rank.\n",
    "<br>\n",
    "<br>\n",
    "<details><summary>\n",
    "Click here for a hint...\n",
    "</summary>\n",
    "It is one line code if you do it Pythonically.\n",
    "</details>"
   ]
  },
  {
   "cell_type": "code",
   "execution_count": 30,
   "metadata": {},
   "outputs": [],
   "source": [
    "import pandas as pd"
   ]
  },
  {
   "cell_type": "code",
   "execution_count": 53,
   "metadata": {},
   "outputs": [
    {
     "data": {
      "text/html": [
       "<div>\n",
       "<style scoped>\n",
       "    .dataframe tbody tr th:only-of-type {\n",
       "        vertical-align: middle;\n",
       "    }\n",
       "\n",
       "    .dataframe tbody tr th {\n",
       "        vertical-align: top;\n",
       "    }\n",
       "\n",
       "    .dataframe thead th {\n",
       "        text-align: right;\n",
       "    }\n",
       "</style>\n",
       "<table border=\"1\" class=\"dataframe\">\n",
       "  <thead>\n",
       "    <tr style=\"text-align: right;\">\n",
       "      <th></th>\n",
       "      <th>word</th>\n",
       "      <th>rank</th>\n",
       "      <th>frequency</th>\n",
       "    </tr>\n",
       "  </thead>\n",
       "  <tbody>\n",
       "    <tr>\n",
       "      <th>0</th>\n",
       "      <td>the</td>\n",
       "      <td>1</td>\n",
       "      <td>4642</td>\n",
       "    </tr>\n",
       "    <tr>\n",
       "      <th>1</th>\n",
       "      <td>and</td>\n",
       "      <td>2</td>\n",
       "      <td>4368</td>\n",
       "    </tr>\n",
       "    <tr>\n",
       "      <th>2</th>\n",
       "      <td>de</td>\n",
       "      <td>3</td>\n",
       "      <td>3160</td>\n",
       "    </tr>\n",
       "    <tr>\n",
       "      <th>3</th>\n",
       "      <td>of</td>\n",
       "      <td>4</td>\n",
       "      <td>2824</td>\n",
       "    </tr>\n",
       "    <tr>\n",
       "      <th>4</th>\n",
       "      <td>a</td>\n",
       "      <td>5</td>\n",
       "      <td>2372</td>\n",
       "    </tr>\n",
       "  </tbody>\n",
       "</table>\n",
       "</div>"
      ],
      "text/plain": [
       "  word  rank  frequency\n",
       "0  the     1       4642\n",
       "1  and     2       4368\n",
       "2   de     3       3160\n",
       "3   of     4       2824\n",
       "4    a     5       2372"
      ]
     },
     "execution_count": 53,
     "metadata": {},
     "output_type": "execute_result"
    }
   ],
   "source": [
    "df = pd.DataFrame(word_counts_sorted_)\n",
    "df.columns = ['word', 'frequency']\n",
    "df.insert(loc=1, column= 'rank', value=np.arange(len(word_counts_sorted_))+1)\n",
    "df.head()"
   ]
  },
  {
   "cell_type": "code",
   "execution_count": 84,
   "metadata": {},
   "outputs": [],
   "source": [
    "# one line\n",
    "new_dict = [(np.log(i+1), np.log(j[1])) for i,j in enumerate(word_counts_sorted_)]"
   ]
  },
  {
   "cell_type": "markdown",
   "metadata": {},
   "source": [
    "TODO: Plot word frequency against word rank for all the data\n",
    "<br>\n",
    "<br>\n",
    "<details><summary>\n",
    "Click here for a hint...\n",
    "</summary>\n",
    "Plot it on log/log scale\n",
    "</details>"
   ]
  },
  {
   "cell_type": "code",
   "execution_count": 103,
   "metadata": {},
   "outputs": [
    {
     "data": {
      "image/png": "[encoded data removed]",
      "text/plain": [
       "<Figure size 1152x648 with 1 Axes>"
      ]
     },
     "metadata": {},
     "output_type": "display_data"
    }
   ],
   "source": [
    "log_rank, log_frequency = zip(*new_dict)\n",
    "\n",
    "plt.scatter(log_rank, log_frequency);"
   ]
  },
  {
   "cell_type": "markdown",
   "metadata": {},
   "source": [
    "TODO: Describe the what the plot tells you about the data"
   ]
  },
  {
   "cell_type": "code",
   "execution_count": 120,
   "metadata": {},
   "outputs": [],
   "source": [
    "# Data is roughly lineaer in log/log scale with fat dots"
   ]
  },
  {
   "cell_type": "markdown",
   "metadata": {
    "collapsed": true
   },
   "source": [
    "TODO: How does your result compare to Wikipedia?\n",
    "    \n",
    "![](https://upload.wikimedia.org/wikipedia/commons/b/b9/Wikipedia-n-zipf.png)"
   ]
  },
  {
   "cell_type": "code",
   "execution_count": 121,
   "metadata": {},
   "outputs": [],
   "source": [
    "# Very similar to the plot above in the sense that it looks roughly linear, \n",
    "# There's seems to be a 'kink' in the middle and two linear regression can\n",
    "# summarize the graph well"
   ]
  },
  {
   "cell_type": "markdown",
   "metadata": {
    "collapsed": true
   },
   "source": [
    "TODO: Fit and plot a linear model to the data\n",
    "\n",
    "__Mar's Law__:\n",
    "\n",
    "> Everything is linear if plotted log-log with a fat magic marker\n",
    "\n",
    "<br>\n",
    "<details><summary>\n",
    "Click here for a hint…\n",
    "</summary>\n",
    "You can also fit a model in R by using Feather - https://github.com/wesm/feather\n",
    "</details>"
   ]
  },
  {
   "cell_type": "code",
   "execution_count": 95,
   "metadata": {},
   "outputs": [],
   "source": [
    "from scipy import stats\n",
    "slope, intercept, r_value, p_value, std_err = stats.linregress(log_rank, log_frequency)"
   ]
  },
  {
   "cell_type": "code",
   "execution_count": 119,
   "metadata": {},
   "outputs": [
    {
     "name": "stdout",
     "output_type": "stream",
     "text": [
      "r-squared: 0.9748284492135972\n"
     ]
    },
    {
     "data": {
      "image/png": "[encoded data removed]",
      "text/plain": [
       "<Figure size 1152x648 with 1 Axes>"
      ]
     },
     "metadata": {},
     "output_type": "display_data"
    }
   ],
   "source": [
    "print(\"r-squared:\", r_value**2)\n",
    "plt.scatter(log_rank, log_frequency);\n",
    "plt.legend('')\n",
    "plt.plot(log_rank, intercept+[slope*i for i in list(log_rank)], 'r');"
   ]
  },
  {
   "cell_type": "markdown",
   "metadata": {},
   "source": [
    "TODO: Is a linear model a useful model for the data? Why or Why not?"
   ]
  },
  {
   "cell_type": "code",
   "execution_count": 124,
   "metadata": {},
   "outputs": [],
   "source": [
    "# A linear model is useful for this data given the R^2 value \n",
    "# is very close to 1. The data is pretty linear by visual check\n",
    "# Although it doesn't fit well with data whose log rank less than 5"
   ]
  },
  {
   "cell_type": "markdown",
   "metadata": {},
   "source": [
    "TODO: How would summarize what you found in a couple of sentences?"
   ]
  },
  {
   "cell_type": "code",
   "execution_count": 125,
   "metadata": {},
   "outputs": [],
   "source": [
    "# Word frequency and word rank shows a linearly relationship in log/log scale"
   ]
  },
  {
   "cell_type": "markdown",
   "metadata": {},
   "source": [
    "TODO: How did Data Science Workflow work for this problem?"
   ]
  },
  {
   "cell_type": "code",
   "execution_count": null,
   "metadata": {
    "collapsed": true
   },
   "outputs": [],
   "source": []
  },
  {
   "cell_type": "markdown",
   "metadata": {},
   "source": [
    "<br>\n",
    "<br> \n",
    "<br>\n",
    "\n",
    "----"
   ]
  }
 ],
 "metadata": {
  "anaconda-cloud": {},
  "kernelspec": {
   "display_name": "Python 3",
   "language": "python",
   "name": "python3"
  },
  "language_info": {
   "codemirror_mode": {
    "name": "ipython",
    "version": 3
   },
   "file_extension": ".py",
   "mimetype": "text/x-python",
   "name": "python",
   "nbconvert_exporter": "python",
   "pygments_lexer": "ipython3",
   "version": "3.6.5"
  }
 },
 "nbformat": 4,
 "nbformat_minor": 1
}
